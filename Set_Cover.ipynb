{
  "nbformat": 4,
  "nbformat_minor": 0,
  "metadata": {
    "colab": {
      "provenance": [],
      "authorship_tag": "ABX9TyOG7MWTUqSVosfUuDO34ztL",
      "include_colab_link": true
    },
    "kernelspec": {
      "name": "python3",
      "display_name": "Python 3"
    },
    "language_info": {
      "name": "python"
    }
  },
  "cells": [
    {
      "cell_type": "markdown",
      "metadata": {
        "id": "view-in-github",
        "colab_type": "text"
      },
      "source": [
        "<a href=\"https://colab.research.google.com/github/tsourolampis/bu-cs630-fall23/blob/main/Set_Cover.ipynb\" target=\"_parent\"><img src=\"https://colab.research.google.com/assets/colab-badge.svg\" alt=\"Open In Colab\"/></a>"
      ]
    },
    {
      "cell_type": "code",
      "execution_count": null,
      "metadata": {
        "id": "63OYVSvRW34t"
      },
      "outputs": [],
      "source": []
    },
    {
      "cell_type": "markdown",
      "source": [
        "##  SET-COVER:\n",
        "\n",
        "**Input**: Given a universe $X$ of $n$ elements, and $m$ subsets $S_1, S_2, \\ldots, S_m$ of these elements.\n",
        "\n",
        "**Output**: find the fewest number of these subsets needed to cover all the points. The decision problem also provides a number $k$ and asks whether it is possible to cover all the points using $k$ or fewer sets.\n",
        "\n",
        "**SET-COVER** is NP-Complete. However, there is a simple algorithm that gets an approximation ratio of $\\ln n$.\n",
        "\n",
        "## Greedy Algorithm (SET-COVER):\n",
        "Pick the set that covers the most points. Throw out all the points covered. Repeat.\n",
        "\n",
        "### Theorem  \n",
        "If the optimal solution uses $k$ sets, the greedy algorithm finds a solution with at most $k \\ln n$ sets.\n",
        "\n",
        "### Proof:\n",
        "Since the optimal solution uses $k$ sets, there must some set that covers at least a $1/k$ fraction of the points. The algorithm chooses the set that covers the most points, so it covers at least that many. Therefore, after the first iteration of the algorithm, there are at most $n(1 - 1/k)$ points left. Again, since the optimal solution uses $k$ sets, there must some set that covers at least a $1/k$ fraction of the remainder (if we got lucky we might have chosen one of the sets used by the optimal solution and so there are actually $k - 1$ sets covering the remainder, but we can’t count on that necessarily happening). So, again, since we choose the set that covers the most points remaining, after the second iteration, there are at most $n(1 - 1/k)^2$ points left. More generally, after $t$ rounds, there are at most $n(1 - 1/k)^t$ points left. After $t = k \\ln n$ rounds, there are at most $n(1 - 1/k)^{k \\ln n} < n(1/e)^{\\ln n} = 1$ points left, which means we must be done. &#9632;\n",
        "\n"
      ],
      "metadata": {
        "id": "fMk3p1dEW5mz"
      }
    },
    {
      "cell_type": "code",
      "source": [
        "from typing import List, Set\n",
        "\n",
        "def greedy_set_cover(universe: Set[int], subsets: List[Set[int]]) -> List[Set[int]]:\n",
        "    uncovered = universe.copy()\n",
        "    # The set cover to be returned\n",
        "    set_cover = []\n",
        "\n",
        "    while uncovered:\n",
        "        # Find the subset that covers the most uncovered points\n",
        "        best_subset = max(subsets, key=lambda s: len(s & uncovered))\n",
        "        # Add the chosen subset to the set cover\n",
        "        set_cover.append(best_subset)\n",
        "        # Remove points covered by the chosen subset from uncovered\n",
        "        uncovered -= best_subset\n",
        "\n",
        "    return set_cover\n",
        "\n",
        "\n",
        "universe = set(range(1, 21))\n",
        "subsets = [\n",
        "    {1, 2, 3, 4, 5},\n",
        "    {4, 5, 6, 7, 8},\n",
        "    {8, 9, 10, 11, 12},\n",
        "    {10, 11, 12, 13, 14},\n",
        "    {13, 14, 15, 16, 17},\n",
        "    {16, 17, 18, 19, 20},\n",
        "    {2, 7, 11, 16, 20}  # This subset is added to create a little more complexity\n",
        "]\n",
        "\n",
        "set_cover = greedy_set_cover(universe, subsets)\n",
        "print(f\"The greedy set cover solution is: {set_cover}\")\n"
      ],
      "metadata": {
        "colab": {
          "base_uri": "https://localhost:8080/"
        },
        "id": "w3jp6ZZoW6Ec",
        "outputId": "62a1ba5e-2696-450e-e02a-5de8ec56f1fb"
      },
      "execution_count": 1,
      "outputs": [
        {
          "output_type": "stream",
          "name": "stdout",
          "text": [
            "The greedy set cover solution is: [{1, 2, 3, 4, 5}, {8, 9, 10, 11, 12}, {16, 17, 13, 14, 15}, {16, 17, 18, 19, 20}, {4, 5, 6, 7, 8}]\n"
          ]
        }
      ]
    },
    {
      "cell_type": "code",
      "source": [],
      "metadata": {
        "id": "fYoyopShXwyt"
      },
      "execution_count": null,
      "outputs": []
    }
  ]
}