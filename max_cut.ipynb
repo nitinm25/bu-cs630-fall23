{
  "nbformat": 4,
  "nbformat_minor": 0,
  "metadata": {
    "colab": {
      "provenance": [],
      "authorship_tag": "ABX9TyMufrFamYitNrq9ijwpwQnW",
      "include_colab_link": true
    },
    "kernelspec": {
      "name": "python3",
      "display_name": "Python 3"
    },
    "language_info": {
      "name": "python"
    }
  },
  "cells": [
    {
      "cell_type": "markdown",
      "metadata": {
        "id": "view-in-github",
        "colab_type": "text"
      },
      "source": [
        "<a href=\"https://colab.research.google.com/github/tsourolampis/bu-cs630-fall23/blob/main/max_cut.ipynb\" target=\"_parent\"><img src=\"https://colab.research.google.com/assets/colab-badge.svg\" alt=\"Open In Colab\"/></a>"
      ]
    },
    {
      "cell_type": "code",
      "execution_count": 7,
      "metadata": {
        "id": "cCraRRgu8OAN"
      },
      "outputs": [],
      "source": [
        "import numpy as np\n",
        "import pandas as pd\n",
        "import matplotlib.pyplot as plt\n",
        "import networkx as nx"
      ]
    },
    {
      "cell_type": "code",
      "source": [
        "!pip install pulp"
      ],
      "metadata": {
        "colab": {
          "base_uri": "https://localhost:8080/"
        },
        "id": "hqCDcZ1Y-C0S",
        "outputId": "ba4f464d-0123-4661-f5fe-f5ce326843bd"
      },
      "execution_count": 6,
      "outputs": [
        {
          "output_type": "stream",
          "name": "stdout",
          "text": [
            "Collecting pulp\n",
            "  Downloading PuLP-2.7.0-py3-none-any.whl (14.3 MB)\n",
            "\u001b[2K     \u001b[90m━━━━━━━━━━━━━━━━━━━━━━━━━━━━━━━━━━━━━━━━\u001b[0m \u001b[32m14.3/14.3 MB\u001b[0m \u001b[31m20.2 MB/s\u001b[0m eta \u001b[36m0:00:00\u001b[0m\n",
            "\u001b[?25hInstalling collected packages: pulp\n",
            "Successfully installed pulp-2.7.0\n"
          ]
        }
      ]
    },
    {
      "cell_type": "code",
      "source": [
        "import pulp"
      ],
      "metadata": {
        "id": "CBTbgJe6-IGv"
      },
      "execution_count": 8,
      "outputs": []
    },
    {
      "cell_type": "code",
      "source": [
        "def compute_cut_value(G, set_A, set_B):\n",
        "    \"\"\"\n",
        "    Compute the value of the cut between two sets of nodes in a graph.\n",
        "\n",
        "    Parameters:\n",
        "    G (nx.Graph): The graph.\n",
        "    set_A (set): The first set of nodes.\n",
        "    set_B (set): The second set of nodes.\n",
        "\n",
        "    Returns:\n",
        "    int: The total weight of the edges that cross the cut.\n",
        "    \"\"\"\n",
        "    cut_value = 0\n",
        "    for edge in G.edges(data=True):\n",
        "        # Check if the edge crosses the cut\n",
        "        if (edge[0] in set_A and edge[1] in set_B) or (edge[0] in set_B and edge[1] in set_A):\n",
        "            # Add the edge's weight to the cut value\n",
        "            cut_value += edge[2].get('weight', 1)  # default weight is 1 if not specified\n",
        "    return cut_value\n"
      ],
      "metadata": {
        "id": "6MLj7jzdVhx3"
      },
      "execution_count": 26,
      "outputs": []
    },
    {
      "cell_type": "code",
      "source": [
        "def max_cut_ilp_solver(graph):\n",
        "    max_cut_problem = pulp.LpProblem(\"MaxCutProblem\", pulp.LpMaximize)\n",
        "\n",
        "    # Binary variables to represent the cut (1 if the node is in one set, 0 otherwise)\n",
        "    nodes = list(graph.nodes())\n",
        "    x = pulp.LpVariable.dicts(\"x\", nodes, 0, 1, pulp.LpBinary)\n",
        "\n",
        "    edges = list(graph.edges())\n",
        "    y = pulp.LpVariable.dicts(\"y\", edges, 0, 1, pulp.LpBinary)\n",
        "\n",
        "    # Maximize the cut value (sum of edge weights crossing the cut)\n",
        "    max_cut_problem += pulp.lpSum(graph[u][v]['weight'] * y[(u, v)] for (u, v) in edges), \"MaximizeCut\"\n",
        "\n",
        "    # Add constraints y_uv <= x_u + x_v\n",
        "    for (u, v) in edges:\n",
        "        max_cut_problem += y[(u, v)] <= x[u] + x[v], f\"Constraint_y_{u}_{v}_1\"\n",
        "\n",
        "    # Add constraints y_uv <= 2 - x_u - x_v\n",
        "    for (u, v) in edges:\n",
        "        max_cut_problem += y[(u, v)] <= 2 - x[u] - x[v], f\"Constraint_y_{u}_{v}_2\"\n",
        "\n",
        "    # Solve the ILP problem\n",
        "    max_cut_problem.solve()\n",
        "\n",
        "    # Extract the results\n",
        "    max_cut_value = pulp.value(max_cut_problem.objective)\n",
        "    max_cut_set1 = [node for node in nodes if pulp.value(x[node]) == 1]\n",
        "    max_cut_set2 = [node for node in nodes if pulp.value(x[node]) == 0]\n",
        "\n",
        "    return max_cut_value, max_cut_set1, max_cut_set2\n",
        "\n",
        "G = nx.Graph()\n",
        "G.add_edge(0, 1, weight=5)\n",
        "G.add_edge(0, 2, weight=3)\n",
        "G.add_edge(1, 2, weight=4)\n",
        "G.add_edge(1, 3, weight=2)\n",
        "G.add_edge(2, 3, weight=1)\n",
        "\n",
        "edge_labels = {(u, v): G[u][v]['weight'] for u, v in G.edges()}\n",
        "\n",
        "\n",
        "\n",
        "S = {2,3}\n",
        "pos = nx.spring_layout(G)\n",
        "nx.draw(G, pos, with_labels=True, node_color='skyblue', node_size=500, font_size=12, font_weight='bold', width=1.5, edge_color='gray')\n",
        "# Draw the nodes in set S with a different color\n",
        "nx.draw_networkx_nodes(G, pos, nodelist=S, node_color='red', node_size=500)\n",
        "\n",
        "# Highlight the edges across the partition (S, V \\ S) by increasing their width\n",
        "edge_widths = [6.5 if (u in S and v not in S) or (u not in S and v in S) else 1.0 for u, v in G.edges()]\n",
        "nx.draw_networkx_edges(G, pos, width=edge_widths, alpha=0.7, edge_color='gray')\n",
        "\n",
        "nx.draw_networkx_edge_labels(G, pos, edge_labels=edge_labels, font_size=10)\n",
        "\n",
        "\n"
      ],
      "metadata": {
        "colab": {
          "base_uri": "https://localhost:8080/",
          "height": 603
        },
        "id": "-fImpd0P8Quf",
        "outputId": "74f5f32f-cf9e-439b-f2e7-ccc4ee6123e8"
      },
      "execution_count": 11,
      "outputs": [
        {
          "output_type": "execute_result",
          "data": {
            "text/plain": [
              "{(0, 1): Text(-0.10160919054090849, 0.46966117506684757, '5'),\n",
              " (0, 2): Text(0.26654201479975304, 0.446503184637992, '3'),\n",
              " (1, 2): Text(0.11331207196238349, 0.08383564029516063, '4'),\n",
              " (1, 3): Text(-0.2665420147997531, -0.4465031846379919, '2'),\n",
              " (2, 3): Text(0.10160919054090842, -0.46966117506684746, '1')}"
            ]
          },
          "metadata": {},
          "execution_count": 11
        },
        {
          "output_type": "display_data",
          "data": {
            "text/plain": [
              "<Figure size 640x480 with 1 Axes>"
            ],
            "image/png": "[encoded data removed]"
          },
          "metadata": {}
        }
      ]
    },
    {
      "cell_type": "code",
      "source": [
        "max_cut_value, max_cut_set1, max_cut_set2 = max_cut_ilp_solver(G)\n",
        "print(\"Max Cut Value:\", max_cut_value)\n",
        "print(\"Set 1:\", max_cut_set1)\n",
        "print(\"Set 2:\", max_cut_set2)\n"
      ],
      "metadata": {
        "colab": {
          "base_uri": "https://localhost:8080/"
        },
        "id": "W_DRMQ1A8bNQ",
        "outputId": "5e54339a-6d97-41e1-8c6f-3b5c028933ae"
      },
      "execution_count": 12,
      "outputs": [
        {
          "output_type": "stream",
          "name": "stdout",
          "text": [
            "Max Cut Value: 11.0\n",
            "Set 1: [1]\n",
            "Set 2: [0, 2, 3]\n"
          ]
        }
      ]
    },
    {
      "cell_type": "code",
      "source": [
        "\n",
        "\n",
        "S = max_cut_set1\n",
        "pos = nx.spring_layout(G)\n",
        "nx.draw(G, pos, with_labels=True, node_color='skyblue', node_size=500, font_size=12, font_weight='bold', width=1.5, edge_color='gray')\n",
        "# Draw the nodes in set S with a different color\n",
        "nx.draw_networkx_nodes(G, pos, nodelist=S, node_color='red', node_size=500)\n",
        "\n",
        "# Highlight the edges across the partition (S, V \\ S) by increasing their width\n",
        "edge_widths = [6.5 if (u in S and v not in S) or (u not in S and v in S) else 1.0 for u, v in G.edges()]\n",
        "nx.draw_networkx_edges(G, pos, width=edge_widths, alpha=0.7, edge_color='gray')\n",
        "\n",
        "nx.draw_networkx_edge_labels(G, pos, edge_labels=edge_labels, font_size=10)\n",
        "\n",
        "\n",
        "compute_cut_value(G, max_cut_set1, max_cut_set2)\n"
      ],
      "metadata": {
        "colab": {
          "base_uri": "https://localhost:8080/",
          "height": 533
        },
        "id": "P_XR_LSn-jNU",
        "outputId": "c0bd403c-9ba2-43e8-e001-f6c5961e6b3b"
      },
      "execution_count": 29,
      "outputs": [
        {
          "output_type": "execute_result",
          "data": {
            "text/plain": [
              "11"
            ]
          },
          "metadata": {},
          "execution_count": 29
        },
        {
          "output_type": "display_data",
          "data": {
            "text/plain": [
              "<Figure size 640x480 with 1 Axes>"
            ],
            "image/png": "[encoded data removed]"
          },
          "metadata": {}
        }
      ]
    },
    {
      "cell_type": "code",
      "source": [
        "def max_cut_approx_weighted(G):\n",
        "    # Initialize the two sets\n",
        "    set_A = set()\n",
        "    set_B = set()\n",
        "\n",
        "    for node in G.nodes():\n",
        "        weight_to_A = sum(G[node][neighbor]['weight'] for neighbor in G[node] if neighbor in set_A)\n",
        "        weight_to_B = sum(G[node][neighbor]['weight'] for neighbor in G[node] if neighbor in set_B)\n",
        "\n",
        "        # Assign the vertex to the set where the total weight of edges is smaller\n",
        "        if weight_to_A > weight_to_B:\n",
        "            set_B.add(node)\n",
        "        else:\n",
        "            set_A.add(node)\n",
        "\n",
        "    return set_A, set_B\n",
        "\n",
        "G = nx.Graph()\n",
        "G.add_edge(0, 1, weight=5)\n",
        "G.add_edge(0, 2, weight=3)\n",
        "G.add_edge(1, 2, weight=4)\n",
        "G.add_edge(1, 3, weight=2)\n",
        "G.add_edge(2, 3, weight=1)\n",
        "\n",
        "set_A, set_B = max_cut_approx_weighted(G)\n",
        "print(\"Set A:\", set_A)\n",
        "print(\"Set B:\", set_B)\n",
        "compute_cut_value(G, set_A, set_B)"
      ],
      "metadata": {
        "colab": {
          "base_uri": "https://localhost:8080/"
        },
        "id": "RZZO-fbr-oyR",
        "outputId": "6eb2a2b5-3b1c-4853-88ad-45e52924e80a"
      },
      "execution_count": 28,
      "outputs": [
        {
          "output_type": "stream",
          "name": "stdout",
          "text": [
            "Set A: {0, 2, 3}\n",
            "Set B: {1}\n"
          ]
        },
        {
          "output_type": "execute_result",
          "data": {
            "text/plain": [
              "11"
            ]
          },
          "metadata": {},
          "execution_count": 28
        }
      ]
    },
    {
      "cell_type": "markdown",
      "source": [
        "**Local search:** Another way to view this is as follows: we start with an  arbitrary cut, and then we keep modifying it greedily while there is a choice\n",
        "that improves the size of the cut. Specifically,  while there exists a node $u$ such that moving $u$ to the other side of the cut would increase the cut value, we make such a move. We stop when such a move is no longer possible. Notice that we make a move when strict inequality holds, otherwise we could be making a long sequence of moves that do not improve the objective. This also gives a natural measure of progress to prove that the algorithm terminates.   Let $( S, V \\setminus S)$ denote the final cut, and let $d(u, S)$ denote the contribution of the degree of u to the cut value $\\delta(S)$. Then\n",
        "\n",
        "$2 \\cdot |\\delta(S)| = \\sum_{u \\in S} d(u, S) + \\sum_{v \\in V \\setminus S} d(v, S) \\geq \\sum_{u \\in S} \\frac{\\text{deg}(u)}{2} + \\sum_{v \\in V \\setminus S} \\frac{\\text{deg}(v)}{2} = \\frac{1}{2} \\sum_{x \\in V} \\text{deg}(x) = |E|, $\n",
        "\n",
        "where the inequality holds due to the terminating condition of our algorithm.\n"
      ],
      "metadata": {
        "id": "gEp1oIE2Cytr"
      }
    },
    {
      "cell_type": "code",
      "source": [
        "import random\n",
        "\n",
        "def randomized_halfapprox_max_cut(G):\n",
        "    nodes = list(G.nodes())\n",
        "    random.shuffle(nodes)\n",
        "    mid = len(nodes) // 2\n",
        "    set_A = set(nodes[:mid])\n",
        "    set_B = set(nodes[mid:])\n",
        "\n",
        "    # The cut_weight is not calculated as it is not used for determining the sets\n",
        "    # If needed, it can be calculated by iterating over the edges\n",
        "\n",
        "    return set_A, set_B\n",
        "\n",
        "G = nx.Graph()\n",
        "G.add_edge(0, 1, weight=5)\n",
        "G.add_edge(0, 2, weight=3)\n",
        "G.add_edge(1, 2, weight=4)\n",
        "G.add_edge(1, 3, weight=2)\n",
        "G.add_edge(2, 3, weight=1)\n",
        "\n",
        "set_A, set_B = randomized_halfapprox_max_cut(G)\n",
        "\n",
        "# Output the result\n",
        "print(\"Set A:\", set_A)\n",
        "print(\"Set B:\", set_B)\n",
        "\n",
        "compute_cut_value(G, set_A, set_B)"
      ],
      "metadata": {
        "colab": {
          "base_uri": "https://localhost:8080/"
        },
        "id": "F2UPh_49-0d_",
        "outputId": "62c6830d-879d-4ab3-e47e-252bc1e55bb2"
      },
      "execution_count": 27,
      "outputs": [
        {
          "output_type": "stream",
          "name": "stdout",
          "text": [
            "Set A: {2, 3}\n",
            "Set B: {0, 1}\n"
          ]
        },
        {
          "output_type": "execute_result",
          "data": {
            "text/plain": [
              "9"
            ]
          },
          "metadata": {},
          "execution_count": 27
        }
      ]
    },
    {
      "cell_type": "markdown",
      "source": [
        "\n",
        "**Random partition:**  Place each vertex in S (initially empty) independently with probability 1/2.  Then any edge  $e = \\{u, v\\} $ in E is cut if and only if exactly one of its endpoints is in S, and this occurs with probability 1/2. Thus, the expected contribution of e to $ \\delta(S)$  is 1/2, so by linearity of expectation, the expected size of $\\delta(S) $ is |E|/2.   \n",
        "\n",
        "**Exercise**: what happens when the graph is weighted?\n",
        "\n"
      ],
      "metadata": {
        "id": "yIK69BZPDxLs"
      }
    },
    {
      "cell_type": "code",
      "source": [],
      "metadata": {
        "id": "CIj_EnpgDx0n"
      },
      "execution_count": null,
      "outputs": []
    }
  ]
}